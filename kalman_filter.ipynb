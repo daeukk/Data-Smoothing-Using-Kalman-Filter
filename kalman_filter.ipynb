{
 "cells": [
  {
   "cell_type": "code",
   "execution_count": 5,
   "id": "05dec578-d742-475a-84a5-5856ee7538ce",
   "metadata": {},
   "outputs": [],
   "source": [
    "import pandas as pd\n",
    "import numpy as np\n",
    "from pykalman import KalmanFilter"
   ]
  },
  {
   "cell_type": "code",
   "execution_count": 11,
   "id": "2f82ec04-050b-4744-b313-43f8dbe7f2c7",
   "metadata": {},
   "outputs": [
    {
     "name": "stdout",
     "output_type": "stream",
     "text": [
      "Total number of entries: 410\n",
      "Processing 41 groups of 10 rows each.\n"
     ]
    }
   ],
   "source": [
    "# Load Excel file\n",
    "df = pd.read_excel(\"Extracted_Colors.xlsx\", sheet_name=\"Sheet5\")\n",
    "\n",
    "# Display total number of entries\n",
    "num_entries = len(df)\n",
    "print(f\"Total number of entries: {num_entries}\")\n",
    "\n",
    "# Define input and output columns\n",
    "input_columns = [\"a\", \"V\", \"b\", \"S\"]\n",
    "output_column = \"pH\"  # Assuming pH is the output column\n",
    "\n",
    "# Original feature ranges\n",
    "feature_ranges = {\n",
    "    \"a\": (-55, 60),\n",
    "    \"V\": (40, 80),\n",
    "    \"b\": (-100, 80),\n",
    "    \"S\": (15, 130)\n",
    "}\n",
    "\n",
    "# Determine number of groups (every 10 rows)\n",
    "num_groups = num_entries // 10  # Integer division to get the number of full groups\n",
    "print(f\"Processing {num_groups} groups of 10 rows each.\")"
   ]
  },
  {
   "cell_type": "code",
   "execution_count": 12,
   "id": "5c1ca957-e2a2-4700-907b-99a959b5c33a",
   "metadata": {},
   "outputs": [],
   "source": [
    "# Scaling functions\n",
    "def min_max_scale(value, original_range):\n",
    "    min_val, max_val = original_range\n",
    "    return 2 * (value - min_val) / (max_val - min_val) - 1  # Scale to (-1,1)\n",
    "\n",
    "def inverse_min_max_scale(value, original_range):\n",
    "    min_val, max_val = original_range\n",
    "    return (value + 1) * (max_val - min_val) / 2 + min_val  # Convert back to original scale\n",
    "\n",
    "# Function to apply Kalman filtering on each group of 10 rows\n",
    "def apply_kalman_filter(df_group, feature_ranges):\n",
    "    df_filtered = df_group.copy()\n",
    "    \n",
    "    for col in input_columns:\n",
    "        values = df_group[col].values.astype(float)\n",
    "        \n",
    "        # Scale to (-1,1) for stable Kalman filtering\n",
    "        scaled_values = np.array([min_max_scale(v, feature_ranges[col]) for v in values])\n",
    "        \n",
    "        # Define Kalman filter (feature-specific noise settings)\n",
    "        kf = KalmanFilter(\n",
    "            initial_state_mean=scaled_values[0],  \n",
    "            transition_matrices=[1],  \n",
    "            observation_matrices=[1],  \n",
    "            transition_covariance=0.001,  # Small process noise\n",
    "            observation_covariance=0.01   # Observation noise\n",
    "        )\n",
    "        \n",
    "        # Apply filter\n",
    "        filtered_state_means, _ = kf.filter(scaled_values)\n",
    "        \n",
    "        # Convert back to original scale\n",
    "        df_filtered[col] = [inverse_min_max_scale(v, feature_ranges[col]) for v in filtered_state_means.flatten()]\n",
    "    \n",
    "    return df_filtered"
   ]
  },
  {
   "cell_type": "code",
   "execution_count": 13,
   "id": "4c2a4867-e21e-4839-aa0f-e428a4ac719a",
   "metadata": {},
   "outputs": [
    {
     "name": "stdout",
     "output_type": "stream",
     "text": [
      "             a          V          b          S    pH\n",
      "405  11.299567  63.546965 -45.805016  88.929270  10.0\n",
      "406  11.936652  63.911979 -46.210074  88.069309  10.0\n",
      "407  11.168304  62.636678 -45.286134  89.451345  10.0\n",
      "408  15.534921  63.797076 -48.954465  91.199451  10.0\n",
      "409  11.538953  64.035471 -45.386316  87.119607  10.0\n"
     ]
    }
   ],
   "source": [
    "# Create a new DataFrame to store results\n",
    "smoothed_df = pd.DataFrame()\n",
    "\n",
    "# Apply Kalman filtering in fixed-size groups of 10 rows\n",
    "for i in range(num_groups):\n",
    "    start_idx = i * 10\n",
    "    end_idx = start_idx + 10\n",
    "    smoothed_df = pd.concat([smoothed_df, apply_kalman_filter(df.iloc[start_idx:end_idx], feature_ranges)])\n",
    "\n",
    "# Keep the original pH column unchanged\n",
    "smoothed_df[\"pH\"] = df[\"pH\"]\n",
    "\n",
    "# Check the last few rows for correctness\n",
    "print(smoothed_df.tail())"
   ]
  },
  {
   "cell_type": "code",
   "execution_count": 14,
   "id": "23c489ce-bf1c-4baa-b6e2-c93ba134a323",
   "metadata": {},
   "outputs": [
    {
     "name": "stdout",
     "output_type": "stream",
     "text": [
      "Filtered dataset saved successfully as 'filtered_data_kalman_scaled.xlsx'!\n"
     ]
    }
   ],
   "source": [
    "# Save the filtered data to a new Excel file\n",
    "smoothed_df.to_excel(\"filtered_data_kalman_scaled.xlsx\", index=False)\n",
    "print(\"Filtered dataset saved successfully as 'filtered_data_kalman_scaled.xlsx'!\")"
   ]
  },
  {
   "cell_type": "code",
   "execution_count": null,
   "id": "075baff2-79e8-4f95-bb6b-7330ce947f0c",
   "metadata": {},
   "outputs": [],
   "source": []
  }
 ],
 "metadata": {
  "kernelspec": {
   "display_name": "Python (Miniforge3)",
   "language": "python",
   "name": "miniforge3"
  },
  "language_info": {
   "codemirror_mode": {
    "name": "ipython",
    "version": 3
   },
   "file_extension": ".py",
   "mimetype": "text/x-python",
   "name": "python",
   "nbconvert_exporter": "python",
   "pygments_lexer": "ipython3",
   "version": "3.10.13"
  }
 },
 "nbformat": 4,
 "nbformat_minor": 5
}
